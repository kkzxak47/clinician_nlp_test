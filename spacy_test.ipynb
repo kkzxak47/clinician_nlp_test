{
 "cells": [
  {
   "cell_type": "markdown",
   "metadata": {},
   "source": [
    "# SpaCy toolbox"
   ]
  },
  {
   "cell_type": "markdown",
   "metadata": {},
   "source": [
    "## Named entity recognition"
   ]
  },
  {
   "cell_type": "code",
   "execution_count": 1,
   "metadata": {},
   "outputs": [],
   "source": [
    "dialog_text = \"\"\"Doctor: How are you Miss G? \n",
    "Patient: I am good doctor, thank you for asking. \n",
    "Doctor: So, tell me what is going on?\n",
    "Patient: I have this ear pain and headache for some time. It's better than before but I still want to get it checked. \n",
    "Doctor: Okay, when exactly did it start?\n",
    "Patient: Um, almost three weeks ago. I am having difficulty hearing. I also feel this pressure on the left side of my sinus causing tooth pain. I went to my dentist yesterday, but my teeth are fine. \n",
    "Doctor: Okay, do you have headache now?\n",
    "Patient: No, just ear pain and this jaw pain on the left side. \n",
    "Doctor: Any fever, cough, sore throat, or any cold like symptoms? \n",
    "Patient: No, but I have a sinus problem and I suffer from chronic left sided headache.\n",
    "Doctor: How old are you?\n",
    "Patient: Oh, I am forty nine.\n",
    "Doctor: Hm, so are you taking any medications for your pain?\n",
    "Patient: No, currently I am just using Cutivate for my eczema. It has helped me a lot, I do need a refill for it. \n",
    "Doctor: Okay I will send a prescription for it to your pharmacy.\n",
    "\"\"\""
   ]
  },
  {
   "cell_type": "code",
   "execution_count": 2,
   "metadata": {},
   "outputs": [
    {
     "name": "stderr",
     "output_type": "stream",
     "text": [
      "/home/invain/.virtualenvs/spacy/lib/python3.12/site-packages/tqdm/auto.py:21: TqdmWarning: IProgress not found. Please update jupyter and ipywidgets. See https://ipywidgets.readthedocs.io/en/stable/user_install.html\n",
      "  from .autonotebook import tqdm as notebook_tqdm\n",
      "/home/invain/.virtualenvs/spacy/lib/python3.12/site-packages/transformers/utils/generic.py:441: FutureWarning: `torch.utils._pytree._register_pytree_node` is deprecated. Please use `torch.utils._pytree.register_pytree_node` instead.\n",
      "  _torch_pytree._register_pytree_node(\n",
      "/home/invain/.virtualenvs/spacy/lib/python3.12/site-packages/transformers/utils/generic.py:309: FutureWarning: `torch.utils._pytree._register_pytree_node` is deprecated. Please use `torch.utils._pytree.register_pytree_node` instead.\n",
      "  _torch_pytree._register_pytree_node(\n"
     ]
    }
   ],
   "source": [
    "import spacy\n",
    "nlp = spacy.load(\"en_core_web_sm\")\n",
    "doc = nlp(dialog_text)"
   ]
  },
  {
   "cell_type": "code",
   "execution_count": 3,
   "metadata": {},
   "outputs": [
    {
     "name": "stdout",
     "output_type": "stream",
     "text": [
      "Miss G PERSON\n",
      "almost three weeks ago DATE\n",
      "yesterday DATE\n",
      "Cutivate PRODUCT\n"
     ]
    }
   ],
   "source": [
    "for ent in doc.ents:\n",
    "    print(ent.text, ent.label_)"
   ]
  },
  {
   "cell_type": "code",
   "execution_count": 4,
   "metadata": {},
   "outputs": [],
   "source": [
    "text2 = \"\"\"Patient: I just had few questions. Can you tell me about my diagnosis?\n",
    "Doctor: Sure. It's called Serotonin syndrome, ma'am. After careful evaluation of your labs, we found out that your white count and C P K was high, and those abnormalities lined up with serotonin syndrome. What are you experiencing right now?\n",
    "Patient: I have been very restless and easily agitated, I have diarrhea. But no fever or shakiness.\n",
    "Doctor: These can match serotonin syndrome as well. You deny any fever, tremor or hypperflexia so we will give you some IV fluids and I will check on you in an hour or so.\n",
    "Patient: Okay. \n",
    "Doctor: Looks like your C P K counts improved with I V fluids and after discontinuing Prozac.\n",
    "Patient: How are the counts now? Are they normal? Because I feel normal.\n",
    "Doctor: Yes, your C P K and white blood cell counts have come back down. Almost normal now.\n",
    "Patient: My husband left me two weeks ago. My panic attacks are increasing day by day.\n",
    "Doctor: Okay, I see that you have a history of panic attacks and you do have depression and anxiety, is that correct? Last Friday, I talked to psychiatrist about your issues, and he recommended Cymbalta as an alternative to Prozac. \n",
    "Patient: Yes, I stopped taking Prozac, and I am going to see him on Monday or Tuesday. I have a counselor too.\n",
    "Patient: I do think it will be difficult to go home alone but my daughter is coming to visit me in two weeks.\n",
    "Doctor: Oh wow.\n",
    "Patient: Yeah.\n",
    "Doctor: That's nice. Do you have someone who can drop you home and help you?\n",
    "Patient: Yes, I have a friend who does that, I am staying with her for next three days.\n",
    "Doctor: Okay that sounds good. Just continue with your medications for high blood pressure and diabetes as well. So, we treated your imbalance issues and gave you IV fluids, you do not have any more diarrhea, right?\n",
    "Patient: Yes, that's right.\"\"\""
   ]
  },
  {
   "cell_type": "markdown",
   "metadata": {},
   "source": [
    "## default model identified 0 entities"
   ]
  },
  {
   "cell_type": "code",
   "execution_count": 5,
   "metadata": {},
   "outputs": [],
   "source": [
    "import medspacy\n",
    "nlp = medspacy.load( )\n",
    "doc2 = nlp(text2)\n",
    "for ent in doc2.ents:\n",
    "    print(ent.text, ent.label_)"
   ]
  },
  {
   "cell_type": "markdown",
   "metadata": {},
   "source": [
    "## prebuilt medical model"
   ]
  },
  {
   "cell_type": "code",
   "execution_count": 6,
   "metadata": {},
   "outputs": [],
   "source": [
    "import en_core_sci_scibert\n",
    "import en_core_med7_trf\n"
   ]
  },
  {
   "cell_type": "code",
   "execution_count": 7,
   "metadata": {},
   "outputs": [
    {
     "name": "stdout",
     "output_type": "stream",
     "text": [
      "IV ROUTE\n",
      "fluids DRUG\n",
      "fluids DRUG\n",
      "Prozac DRUG\n",
      "Cymbalta DRUG\n",
      "Prozac DRUG\n",
      "Prozac DRUG\n",
      "IV ROUTE\n",
      "fluids DRUG\n"
     ]
    }
   ],
   "source": [
    "# import scispacy\n",
    "import spacy\n",
    "\n",
    "nlp2 = spacy.load(\"en_core_med7_trf\")\n",
    "doc2 = nlp2(text2)\n",
    "for ent in doc2.ents:\n",
    "    print(ent.text, ent.label_)"
   ]
  },
  {
   "cell_type": "code",
   "execution_count": 8,
   "metadata": {},
   "outputs": [
    {
     "data": {
      "text/plain": [
       "(IV, fluids, fluids, Prozac, Cymbalta, Prozac, Prozac, IV, fluids)"
      ]
     },
     "execution_count": 8,
     "metadata": {},
     "output_type": "execute_result"
    }
   ],
   "source": [
    "doc2.ents"
   ]
  },
  {
   "cell_type": "markdown",
   "metadata": {},
   "source": [
    "## Intent recognitioin / classification"
   ]
  },
  {
   "cell_type": "code",
   "execution_count": 9,
   "metadata": {},
   "outputs": [
    {
     "name": "stdout",
     "output_type": "stream",
     "text": [
      "Intent recognized: greeting\n"
     ]
    }
   ],
   "source": [
    "import spacy\n",
    "\n",
    "# Load the English model\n",
    "nlp = spacy.load('en_core_web_sm')\n",
    "\n",
    "# Function to recognize intent\n",
    "def recognize_intent(text):\n",
    "    doc = nlp(text)\n",
    "    # Here you can define your intents based on the entities or patterns\n",
    "    intents = {'greeting': ['hello', 'hi', 'hey'], 'goodbye': ['bye', 'goodbye']}\n",
    "    for token in doc:\n",
    "        for intent, keywords in intents.items():\n",
    "            if token.text.lower() in keywords:\n",
    "                return intent\n",
    "    return 'unknown'\n",
    "\n",
    "# Example usage\n",
    "user_input = 'Hello, how are you?'\n",
    "intent = recognize_intent(user_input)\n",
    "print(f'Intent recognized: {intent}')  # Output: Intent recognized: greeting"
   ]
  },
  {
   "cell_type": "markdown",
   "metadata": {},
   "source": [
    "## Training a Custom Model"
   ]
  },
  {
   "cell_type": "code",
   "execution_count": 10,
   "metadata": {},
   "outputs": [],
   "source": [
    "from spacy.util import minibatch, compounding\n",
    "import random\n",
    "from spacy.training.example import Example"
   ]
  },
  {
   "cell_type": "code",
   "execution_count": 11,
   "metadata": {},
   "outputs": [],
   "source": [
    "# training_data = [\n",
    "#     ('Hello, I need help', {'entities': [(0, 5, 'greeting')]}),\n",
    "#     ('Goodbye, see you later', {'entities': [(0, 7, 'goodbye')]}),\n",
    "# ]\n",
    "training_data = [\n",
    "    ('Hello, I need help', {'cats': {'greeting': 1.0, 'goodbye': 0.0}}),\n",
    "    ('How is it going', {'cats': {'greeting': 1.0, 'goodbye': 0.0}}),\n",
    "    ('Goodbye, see you later', {'cats': {'greeting': 0.0, 'goodbye': 1.0}}),\n",
    "    ('Byebye, see you', {'cats': {'greeting': 0.0, 'goodbye': 1.0}}),\n",
    "    ('see you', {'cats': {'greeting': 0.0, 'goodbye': 1.0}}),\n",
    "    ('Hi there', {'cats': {'greeting': 1.0, 'goodbye': 0.0}}),\n",
    "    ('See you soon', {'cats': {'greeting': 0.0, 'goodbye': 1.0}}),\n",
    "]"
   ]
  },
  {
   "cell_type": "code",
   "execution_count": 12,
   "metadata": {},
   "outputs": [
    {
     "data": {
      "text/plain": [
       "1"
      ]
     },
     "execution_count": 12,
     "metadata": {},
     "output_type": "execute_result"
    }
   ],
   "source": [
    "nlp = spacy.blank('en')\n",
    "# text_cat = nlp.create_pipe('textcat')\n",
    "text_cat = nlp.add_pipe('textcat', last=True)\n",
    "text_cat.add_label('greeting')\n",
    "text_cat.add_label('goodbye')"
   ]
  },
  {
   "cell_type": "code",
   "execution_count": 13,
   "metadata": {},
   "outputs": [
    {
     "name": "stdout",
     "output_type": "stream",
     "text": [
      "{'textcat': 0.25}\n",
      "{'textcat': 0.24345222115516663}\n",
      "{'textcat': 0.23973117768764496}\n",
      "{'textcat': 0.23233701288700104}\n",
      "{'textcat': 0.2254914939403534}\n",
      "{'textcat': 0.2097148895263672}\n",
      "{'textcat': 0.20613911747932434}\n",
      "{'textcat': 0.16546247899532318}\n",
      "{'textcat': 0.16736507415771484}\n",
      "{'textcat': 0.15204565227031708}\n",
      "{'textcat': 0.1315755993127823}\n",
      "{'textcat': 0.07987417280673981}\n",
      "{'textcat': 0.10579823702573776}\n",
      "{'textcat': 0.057442452758550644}\n",
      "{'textcat': 0.049352508038282394}\n",
      "{'textcat': 0.04665660858154297}\n",
      "{'textcat': 0.0472964346408844}\n",
      "{'textcat': 0.017516298219561577}\n",
      "{'textcat': 0.015405458398163319}\n",
      "{'textcat': 0.02202540822327137}\n"
     ]
    }
   ],
   "source": [
    "examples = []\n",
    "for text, annots in training_data:\n",
    "    examples.append(Example.from_dict(nlp.make_doc(text), annots))\n",
    "nlp.initialize(lambda: examples)\n",
    "\n",
    "n_iter = 20\n",
    "for epoch in range(n_iter):\n",
    "    random.shuffle(examples)\n",
    "    losses = {}\n",
    "    # Create the minibatch generator\n",
    "    for batch in minibatch(examples, size=8):\n",
    "        nlp.update(batch, drop=0.3, losses=losses)\n",
    "    print(losses)\n"
   ]
  },
  {
   "cell_type": "code",
   "execution_count": 14,
   "metadata": {},
   "outputs": [
    {
     "name": "stdout",
     "output_type": "stream",
     "text": [
      "\n",
      "Analyzing: 'Hello there'\n",
      "Prediction scores:\n",
      "greeting: 0.8876179456710815\n",
      "goodbye: 0.11238212138414383\n",
      "Predicted category: greeting\n",
      "\n",
      "Analyzing: 'Goodbye'\n",
      "Prediction scores:\n",
      "greeting: 0.16446293890476227\n",
      "goodbye: 0.8355370163917542\n",
      "Predicted category: goodbye\n",
      "\n",
      "Analyzing: 'See you later'\n",
      "Prediction scores:\n",
      "greeting: 0.018145233392715454\n",
      "goodbye: 0.9818547964096069\n",
      "Predicted category: goodbye\n"
     ]
    }
   ],
   "source": [
    "# Assuming trained_nlp is your trained model\n",
    "def predict_text_category(nlp, text):\n",
    "    doc = nlp(text)\n",
    "    print(\"Prediction scores:\")\n",
    "    for label, score in doc.cats.items():\n",
    "        print(f\"{label}: {score}\")\n",
    "    \n",
    "    # Get the category with the highest score\n",
    "    predicted_category = max(doc.cats, key=doc.cats.get)\n",
    "    print(f\"Predicted category: {predicted_category}\")\n",
    "    return predicted_category\n",
    "\n",
    "# Example usage\n",
    "test_texts = [\n",
    "    \"Hello there\",\n",
    "    \"Goodbye\",\n",
    "    \"See you later\"\n",
    "]\n",
    "\n",
    "for text in test_texts:\n",
    "    print(f\"\\nAnalyzing: '{text}'\")\n",
    "    predict_text_category(nlp, text)"
   ]
  },
  {
   "cell_type": "markdown",
   "metadata": {},
   "source": [
    "## Rule based solution"
   ]
  },
  {
   "cell_type": "code",
   "execution_count": 15,
   "metadata": {},
   "outputs": [],
   "source": [
    "import spacy\n",
    "from spacy.matcher import Matcher"
   ]
  },
  {
   "cell_type": "code",
   "execution_count": 16,
   "metadata": {},
   "outputs": [],
   "source": [
    "nlp = spacy.load(\"en_core_web_sm\")"
   ]
  },
  {
   "cell_type": "code",
   "execution_count": 17,
   "metadata": {},
   "outputs": [],
   "source": [
    "matcher = Matcher(nlp.vocab)"
   ]
  },
  {
   "cell_type": "code",
   "execution_count": 18,
   "metadata": {},
   "outputs": [],
   "source": [
    "pattern = [\n",
    "    {\"LOWER\": {\"IN\": [\"print\", \"generate\", \"create\"]}},  # Action keywords\n",
    "    {\"IS_ALPHA\": True, \"OP\": \"*\"},  # Allow intermediate words\n",
    "    {\"LOWER\": \"map\"},\n",
    "    {\"IS_ALPHA\": True, \"OP\": \"*\"},  # Allow intermediate words\n",
    "    {\"LOWER\": {\"IN\": [\"hospital\", \"clinic\", \"station\"]}}  # Target keywords\n",
    "]\n",
    "matcher.add(\"PRINT_MAP\", [pattern])"
   ]
  },
  {
   "cell_type": "code",
   "execution_count": 19,
   "metadata": {},
   "outputs": [],
   "source": [
    "text = \"\"\"\n",
    "can you print a map for the Toronto hospital I was wondering if we could generate one for the Guelph clinic what about printing directions to the nearest gas station\n",
    "\"\"\""
   ]
  },
  {
   "cell_type": "code",
   "execution_count": 20,
   "metadata": {},
   "outputs": [],
   "source": [
    "doc = nlp(text)"
   ]
  },
  {
   "cell_type": "code",
   "execution_count": 21,
   "metadata": {},
   "outputs": [],
   "source": [
    "matches = matcher(doc)"
   ]
  },
  {
   "cell_type": "code",
   "execution_count": 22,
   "metadata": {},
   "outputs": [
    {
     "name": "stdout",
     "output_type": "stream",
     "text": [
      "9095104806068616893 3 10\n",
      "Matched Intent: print a map for the Toronto hospital\n",
      "Descriptor:  hospital\n",
      "9095104806068616893 3 22\n",
      "Matched Intent: print a map for the Toronto hospital I was wondering if we could generate one for the Guelph clinic\n",
      "Descriptor:  hospital\n",
      "Descriptor:  clinic\n",
      "9095104806068616893 3 31\n",
      "Matched Intent: print a map for the Toronto hospital I was wondering if we could generate one for the Guelph clinic what about printing directions to the nearest gas station\n",
      "Descriptor:  hospital\n",
      "Descriptor:  clinic\n",
      "Descriptor:  station\n"
     ]
    }
   ],
   "source": [
    "for matchid, start, end in matches:\n",
    "    print(matchid, start, end)\n",
    "    span = doc[start:end]\n",
    "    print(f\"Matched Intent: {span.text}\")\n",
    "    for token in span:\n",
    "        if token.text.lower() in [\"hospital\", \"clinic\", \"station\"]:\n",
    "            # Check for location descriptors\n",
    "            descriptor = \" \".join(child.text for child in token.lefts if child.dep in [\"compound\", \"amod\"])\n",
    "            print(f\"Descriptor: {descriptor} {token.text}\")"
   ]
  },
  {
   "cell_type": "markdown",
   "metadata": {},
   "source": [
    "## rule-based prescription pattern"
   ]
  },
  {
   "cell_type": "code",
   "execution_count": 23,
   "metadata": {},
   "outputs": [
    {
     "name": "stdout",
     "output_type": "stream",
     "text": [
      "\n",
      "Analyzing: I'm going to prescribe you 500mg of amoxicillin three times a day.\n",
      "Has prescription intent: True\n",
      "Matches found: ['prescribe', 'prescribe you']\n",
      "Dosage information: [{'amount': '500', 'unit': 'mg'}]\n",
      "\n",
      "Analyzing: I recommend taking two tablets of ibuprofen 200mg for your pain.\n",
      "Has prescription intent: True\n",
      "Matches found: ['taking two tablets']\n",
      "Dosage information: [{'amount': 'two', 'unit': 'tablets'}, {'amount': '200', 'unit': 'mg'}]\n",
      "\n",
      "Analyzing: Let's continue with your current medications.\n",
      "Has prescription intent: False\n",
      "\n",
      "Analyzing: I suggest you start taking vitamin D supplements.\n",
      "Has prescription intent: True\n",
      "Matches found: ['suggest you start']\n"
     ]
    }
   ],
   "source": [
    "import spacy\n",
    "from spacy.matcher import Matcher\n",
    "from typing import Dict, List, Tuple\n",
    "\n",
    "def create_prescription_matcher(nlp: spacy.language.Language) -> Matcher:\n",
    "    \"\"\"Create a matcher with prescription-related patterns\"\"\"\n",
    "    matcher = Matcher(nlp.vocab)\n",
    "    \n",
    "    # Prescription intent patterns\n",
    "    prescription_patterns = [\n",
    "        # Direct prescription patterns\n",
    "        [\n",
    "            {\"LOWER\": {\"IN\": [\"prescribe\", \"prescribing\", \"prescribed\"]}},\n",
    "            {\"IS_ALPHA\": True, \"OP\": \"*\"},  # Optional words in between\n",
    "            {\"LOWER\": {\"IN\": [\"mg\", \"milligrams\", \"tablets\", \"pills\", \"capsules\"]}, \"OP\": \"?\"}\n",
    "        ],\n",
    "        # Recommendation patterns\n",
    "        [\n",
    "            {\"LOWER\": {\"IN\": [\"recommend\", \"suggesting\", \"suggest\", \"advise\"]}},\n",
    "            {\"IS_ALPHA\": True, \"OP\": \"*\"},\n",
    "            {\"LOWER\": {\"IN\": [\"take\", \"try\", \"start\"]}},\n",
    "        ],\n",
    "        # Direct medication mentions\n",
    "        [\n",
    "            {\"LOWER\": {\"IN\": [\"take\", \"taking\"]}},\n",
    "            {\"IS_ALPHA\": True, \"OP\": \"*\"},\n",
    "            {\"LOWER\": {\"IN\": [\"mg\", \"milligrams\", \"tablets\", \"pills\", \"capsules\"]}}\n",
    "        ],\n",
    "    ]\n",
    "    \n",
    "    matcher.add(\"PRESCRIPTION_INTENT\", prescription_patterns)\n",
    "    return matcher\n",
    "\n",
    "def extract_dosage(doc: spacy.tokens.Doc) -> List[Dict]:\n",
    "    \"\"\"Extract dosage information from text\"\"\"\n",
    "    dosage_info = []\n",
    "    \n",
    "    for ent in doc.ents:\n",
    "        # Look for quantities and measurements\n",
    "        if ent.label_ in [\"QUANTITY\", \"CARDINAL\"]:\n",
    "            next_token = doc[ent.end].text.lower() if ent.end < len(doc) else \"\"\n",
    "            if next_token in [\"mg\", \"milligrams\", \"tablets\", \"pills\", \"capsules\"]:\n",
    "                dosage_info.append({\n",
    "                    \"amount\": ent.text,\n",
    "                    \"unit\": next_token\n",
    "                })\n",
    "    \n",
    "    return dosage_info\n",
    "\n",
    "def analyze_prescription_intent(text: str) -> Dict:\n",
    "    \"\"\"\n",
    "    Analyze text for prescription intents and extract relevant information\n",
    "    \n",
    "    Args:\n",
    "        text: The conversation text to analyze\n",
    "        \n",
    "    Returns:\n",
    "        Dictionary containing prescription intent information\n",
    "    \"\"\"\n",
    "    # Load spaCy model\n",
    "    nlp = spacy.load(\"en_core_web_sm\")\n",
    "    \n",
    "    # Process text\n",
    "    doc = nlp(text)\n",
    "    \n",
    "    # Create and use matcher\n",
    "    matcher = create_prescription_matcher(nlp)\n",
    "    matches = matcher(doc)\n",
    "    \n",
    "    # Extract results\n",
    "    result = {\n",
    "        \"has_prescription_intent\": len(matches) > 0,\n",
    "        \"matches\": [],\n",
    "        \"dosage_info\": extract_dosage(doc)\n",
    "    }\n",
    "    \n",
    "    # Get context for each match\n",
    "    for match_id, start, end in matches:\n",
    "        span = doc[start:end]\n",
    "        result[\"matches\"].append({\n",
    "            \"text\": span.text,\n",
    "            \"sentence\": span.sent.text.strip()\n",
    "        })\n",
    "    \n",
    "    return result\n",
    "\n",
    "# Example usage\n",
    "if __name__ == \"__main__\":\n",
    "    # Test conversations\n",
    "    conversations = [\n",
    "        \"I'm going to prescribe you 500mg of amoxicillin three times a day.\",\n",
    "        \"I recommend taking two tablets of ibuprofen 200mg for your pain.\",\n",
    "        \"Let's continue with your current medications.\",\n",
    "        \"I suggest you start taking vitamin D supplements.\",\n",
    "    ]\n",
    "    \n",
    "    for conversation in conversations:\n",
    "        result = analyze_prescription_intent(conversation)\n",
    "        print(\"\\nAnalyzing:\", conversation)\n",
    "        print(\"Has prescription intent:\", result[\"has_prescription_intent\"])\n",
    "        if result[\"has_prescription_intent\"]:\n",
    "            print(\"Matches found:\", [m[\"text\"] for m in result[\"matches\"]])\n",
    "            if result[\"dosage_info\"]:\n",
    "                print(\"Dosage information:\", result[\"dosage_info\"])"
   ]
  },
  {
   "cell_type": "markdown",
   "metadata": {},
   "source": [
    "## statistical model based prescription classification"
   ]
  },
  {
   "cell_type": "code",
   "execution_count": 24,
   "metadata": {},
   "outputs": [
    {
     "name": "stdout",
     "output_type": "stream",
     "text": [
      "Epoch 0, Losses: {'textcat': 0.49726206064224243}\n",
      "Epoch 1, Losses: {'textcat': 0.49990296363830566}\n",
      "Epoch 2, Losses: {'textcat': 0.4953669607639313}\n",
      "Epoch 3, Losses: {'textcat': 0.46809716522693634}\n",
      "Epoch 4, Losses: {'textcat': 0.4745233505964279}\n",
      "Epoch 5, Losses: {'textcat': 0.47330568730831146}\n",
      "Epoch 6, Losses: {'textcat': 0.4044618010520935}\n",
      "Epoch 7, Losses: {'textcat': 0.43290160596370697}\n",
      "Epoch 8, Losses: {'textcat': 0.3822507709264755}\n",
      "Epoch 9, Losses: {'textcat': 0.33366259932518005}\n",
      "Epoch 10, Losses: {'textcat': 0.3010321408510208}\n",
      "Epoch 11, Losses: {'textcat': 0.291446715593338}\n",
      "Epoch 12, Losses: {'textcat': 0.20964667946100235}\n",
      "Epoch 13, Losses: {'textcat': 0.1929708644747734}\n",
      "Epoch 14, Losses: {'textcat': 0.12446855753660202}\n",
      "Epoch 15, Losses: {'textcat': 0.06889882311224937}\n",
      "Epoch 16, Losses: {'textcat': 0.058809464797377586}\n",
      "Epoch 17, Losses: {'textcat': 0.04528079181909561}\n",
      "Epoch 18, Losses: {'textcat': 0.024109036661684513}\n",
      "Epoch 19, Losses: {'textcat': 0.007771807024255395}\n"
     ]
    }
   ],
   "source": [
    "import spacy\n",
    "from spacy.util import minibatch, compounding\n",
    "import random\n",
    "from spacy.training.example import Example\n",
    "\n",
    "# Training data for prescription intent\n",
    "training_data = [\n",
    "    (\"I'll prescribe you 500mg of amoxicillin\", {'cats': {'prescription': 1.0, 'non_prescription': 0.0}}),\n",
    "    (\"Take two tablets three times a day\", {'cats': {'prescription': 1.0, 'non_prescription': 0.0}}),\n",
    "    (\"I recommend taking this medication\", {'cats': {'prescription': 1.0, 'non_prescription': 0.0}}),\n",
    "    (\"Let's start you on antibiotics\", {'cats': {'prescription': 1.0, 'non_prescription': 0.0}}),\n",
    "    (\"You should take 200mg ibuprofen\", {'cats': {'prescription': 1.0, 'non_prescription': 0.0}}),\n",
    "    (\"How are you feeling today?\", {'cats': {'prescription': 0.0, 'non_prescription': 1.0}}),\n",
    "    (\"Tell me about your symptoms\", {'cats': {'prescription': 0.0, 'non_prescription': 1.0}}),\n",
    "    (\"Your blood pressure looks normal\", {'cats': {'prescription': 0.0, 'non_prescription': 1.0}}),\n",
    "    (\"Let's schedule a follow-up\", {'cats': {'prescription': 0.0, 'non_prescription': 1.0}}),\n",
    "    (\"I'll refer you to a specialist\", {'cats': {'prescription': 0.0, 'non_prescription': 1.0}}),\n",
    "]\n",
    "\n",
    "# Initialize spaCy\n",
    "nlp = spacy.blank('en')\n",
    "text_cat = nlp.add_pipe('textcat', last=True)\n",
    "text_cat.add_label('prescription')\n",
    "text_cat.add_label('non_prescription')\n",
    "\n",
    "# Prepare training examples\n",
    "examples = []\n",
    "for text, annots in training_data:\n",
    "    examples.append(Example.from_dict(nlp.make_doc(text), annots))\n",
    "nlp.initialize(lambda: examples)\n",
    "\n",
    "# Training loop\n",
    "n_iter = 20\n",
    "for epoch in range(n_iter):\n",
    "    random.shuffle(examples)\n",
    "    losses = {}\n",
    "    for batch in minibatch(examples, size=8):\n",
    "        nlp.update(batch, drop=0.3, losses=losses)\n",
    "    print(f\"Epoch {epoch}, Losses:\", losses)\n",
    "\n",
    "def predict_prescription_intent(nlp, text):\n",
    "    doc = nlp(text)\n",
    "    print(\"\\nAnalyzing:\", text)\n",
    "    print(\"Prediction scores:\")\n",
    "    for label, score in doc.cats.items():\n",
    "        print(f\"{label}: {score:.3f}\")\n",
    "    \n",
    "    predicted_category = max(doc.cats, key=doc.cats.get)\n",
    "    print(f\"Predicted category: {predicted_category}\")\n",
    "    return predicted_category\n"
   ]
  },
  {
   "cell_type": "code",
   "execution_count": 25,
   "metadata": {},
   "outputs": [
    {
     "name": "stdout",
     "output_type": "stream",
     "text": [
      "\n",
      "Testing the model:\n",
      "\n",
      "Analyzing: I'm prescribing 20mg of lisinopril daily\n",
      "Prediction scores:\n",
      "prescription: 0.899\n",
      "non_prescription: 0.101\n",
      "Predicted category: prescription\n",
      "\n",
      "Analyzing: Please describe your pain level\n",
      "Prediction scores:\n",
      "prescription: 0.199\n",
      "non_prescription: 0.801\n",
      "Predicted category: non_prescription\n",
      "\n",
      "Analyzing: Take two tablets before bedtime\n",
      "Prediction scores:\n",
      "prescription: 0.944\n",
      "non_prescription: 0.056\n",
      "Predicted category: prescription\n",
      "\n",
      "Analyzing: We'll need to run some tests first\n",
      "Prediction scores:\n",
      "prescription: 0.616\n",
      "non_prescription: 0.384\n",
      "Predicted category: prescription\n",
      "\n",
      "Analyzing: Start with 500mg twice daily\n",
      "Prediction scores:\n",
      "prescription: 0.961\n",
      "non_prescription: 0.039\n",
      "Predicted category: prescription\n"
     ]
    }
   ],
   "source": [
    "\n",
    "# Test the model\n",
    "test_texts = [\n",
    "    \"I'm prescribing 20mg of lisinopril daily\",\n",
    "    \"Please describe your pain level\",\n",
    "    \"Take two tablets before bedtime\",\n",
    "    \"We'll need to run some tests first\",\n",
    "    \"Start with 500mg twice daily\"\n",
    "]\n",
    "\n",
    "print(\"\\nTesting the model:\")\n",
    "for text in test_texts:\n",
    "    predict_prescription_intent(nlp, text)"
   ]
  }
 ],
 "metadata": {
  "kernelspec": {
   "display_name": "freescribe",
   "language": "python",
   "name": "python3"
  },
  "language_info": {
   "codemirror_mode": {
    "name": "ipython",
    "version": 3
   },
   "file_extension": ".py",
   "mimetype": "text/x-python",
   "name": "python",
   "nbconvert_exporter": "python",
   "pygments_lexer": "ipython3",
   "version": "3.12.7"
  }
 },
 "nbformat": 4,
 "nbformat_minor": 2
}
