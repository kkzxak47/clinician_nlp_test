{
 "cells": [
  {
   "cell_type": "code",
   "execution_count": 13,
   "metadata": {},
   "outputs": [],
   "source": [
    "import os\n",
    "\n",
    "os.environ[\"OPENAI_API_BASE\"] = \"https://127.0.0.1:8080/v1\"\n",
    "os.environ[\"OPENAI_API_KEY\"] = \"your-api-key\"\n"
   ]
  },
  {
   "cell_type": "code",
   "execution_count": 14,
   "metadata": {},
   "outputs": [],
   "source": [
    "from langchain.prompts import PromptTemplate\n",
    "# Use LangChain's OpenAI wrapper to connect to your local server\n",
    "from langchain_community.chat_models import ChatOpenAI\n",
    "import json\n",
    "import re"
   ]
  },
  {
   "cell_type": "code",
   "execution_count": 15,
   "metadata": {},
   "outputs": [],
   "source": [
    "llm = ChatOpenAI(\n",
    "    openai_api_base=\"http://127.0.0.1:8080/v1\",  # Local llama.cpp server\n",
    "    openai_api_key=\"no-key-needed\",  # Dummy key\n",
    "    model=\"gemma-2-2b-it-Q8_0.gguf\"\n",
    ")"
   ]
  },
  {
   "cell_type": "code",
   "execution_count": 16,
   "metadata": {},
   "outputs": [],
   "source": [
    "# Define the prompt template\n",
    "template = \"\"\"\n",
    "Analyze this doctor-patient conversation and identify:\n",
    "1. **Intents**: [schedule_test, referral, map_directions, none]\n",
    "2. **Entities**: Test type, date, facility name, location, etc.\n",
    "\n",
    "Return ONLY a JSON response with keys \"intents\" and \"entities\".\n",
    "\n",
    "Examples:\n",
    "Conversation: \"You need a blood test next week.\"\n",
    "Response: {{\"intents\": [\"schedule_test\"], \"entities\": {{\"test_type\": \"blood test\", \"date\": \"next week\"}}}}\n",
    "\n",
    "Conversation: {text}\n",
    "Response: \n",
    "\"\"\"\n",
    "\n",
    "prompt = PromptTemplate(template=template, input_variables=[\"text\"])\n"
   ]
  },
  {
   "cell_type": "code",
   "execution_count": 17,
   "metadata": {},
   "outputs": [
    {
     "name": "stdout",
     "output_type": "stream",
     "text": [
      "{'intents': ['referral', 'schedule_test'], 'entities': {'facility_name': 'Spine Center', 'test_type': 'X-ray'}}\n"
     ]
    }
   ],
   "source": [
    "# Parse JSON output\n",
    "def extract_json(response: str) -> dict:\n",
    "    try:\n",
    "        json_str = re.search(r'\\{.*\\}', response.content, re.DOTALL).group()\n",
    "        return json.loads(json_str)\n",
    "    except (AttributeError, json.JSONDecodeError):\n",
    "        return {\"intents\": [], \"entities\": {}}\n",
    "\n",
    "# Create the chain\n",
    "chain = prompt | llm | extract_json\n",
    "\n",
    "# Test with a sample conversation\n",
    "conversation = \"Refer the patient to Spine Center and schedule an X-ray.\"\n",
    "result = chain.invoke({\"text\": conversation})\n",
    "\n",
    "print(result)  # Output example: {\"intents\": [\"referral\", \"schedule_test\"], \"entities\": {\"facility\": \"Spine Center\", \"test_type\": \"X-ray\"}}"
   ]
  }
 ],
 "metadata": {
  "kernelspec": {
   "display_name": "langchain",
   "language": "python",
   "name": "python3"
  },
  "language_info": {
   "codemirror_mode": {
    "name": "ipython",
    "version": 3
   },
   "file_extension": ".py",
   "mimetype": "text/x-python",
   "name": "python",
   "nbconvert_exporter": "python",
   "pygments_lexer": "ipython3",
   "version": "3.10.11"
  }
 },
 "nbformat": 4,
 "nbformat_minor": 2
}
